{
 "cells": [
  {
   "cell_type": "markdown",
   "metadata": {},
   "source": [
    "# Decoding from a CEBRA embedding\n",
    "\n",
    "In this notebook, we show how to \n",
    "\n",
    "- decode labels from a CEBRA embedding.\n",
    "\n",
    "\n",
    "It is mostly based on what we present in Figure 2 of Schneider, Lee, Mathis."
   ]
  },
  {
   "cell_type": "markdown",
   "metadata": {},
   "source": [
    "- Install note: be sure you have cebra, and the demo dependencies, installed to use this notebook: "
   ]
  },
  {
   "cell_type": "code",
   "execution_count": null,
   "metadata": {},
   "outputs": [],
   "source": [
    "!pip install 'cebra[datasets,demos]'"
   ]
  },
  {
   "cell_type": "code",
   "execution_count": 1,
   "metadata": {},
   "outputs": [],
   "source": [
    "import sys\n",
    "import numpy as np\n",
    "import matplotlib.pyplot as plt\n",
    "import cebra\n",
    "from cebra import CEBRA"
   ]
  },
  {
   "cell_type": "markdown",
   "metadata": {},
   "source": [
    "- Be sure you have downloaded the data and placed `/data` from [FigShare](https://figshare.com/s/60adb075234c2cc51fa3) and into the `demo_notebooks` directory. Let's check if it's there:"
   ]
  },
  {
   "cell_type": "code",
   "execution_count": 1,
   "metadata": {},
   "outputs": [
    {
     "name": "stdout",
     "output_type": "stream",
     "text": [
      "Demo_Allen.ipynb                      Demo_learnable_temperature.ipynb\n",
      "Demo_cohomology.ipynb                 Demo_primate_reaching.ipynb\n",
      "Demo_consistency.ipynb                Demo_primate_reaching_mse_loss.ipynb\n",
      "Demo_conv-pivae.ipynb                 Demo_synthetic_exp.ipynb\n",
      "Demo_decoding.ipynb                   README.rst\n",
      "Demo_hippocampus.ipynb                \u001b[34mdata\u001b[m\u001b[m/\n",
      "Demo_hippocampus_multisession.ipynb   rat_demo_example_output.h5\n",
      "Demo_hypothesis_testing.ipynb\n"
     ]
    }
   ],
   "source": [
    "ls"
   ]
  },
  {
   "cell_type": "code",
   "execution_count": null,
   "metadata": {},
   "outputs": [],
   "source": [
    "hippocampus_pos = cebra.datasets.init('rat-hippocampus-single-achilles')"
   ]
  },
  {
   "cell_type": "markdown",
   "metadata": {},
   "source": [
    "**------------------- BEGINNING OF TRAINING SECTION -------------------**\n",
    "\n",
    "## Train the models\n",
    "\n",
    "*[This can be skipped if you already saved the models].*"
   ]
  },
  {
   "cell_type": "markdown",
   "metadata": {},
   "source": [
    "- For a quick CPU run-time demo, you can drop `max_iterations` to 100-500; otherwise set to 5000."
   ]
  },
  {
   "cell_type": "code",
   "execution_count": 3,
   "metadata": {},
   "outputs": [],
   "source": [
    "max_iterations = 10000 #default is 5000.\n",
    "output_dimension = 32 #here, we set as a variable for hypothesis testing below."
   ]
  },
  {
   "cell_type": "code",
   "execution_count": 4,
   "metadata": {},
   "outputs": [],
   "source": [
    "def split_data(data, test_ratio):\n",
    "\n",
    "    split_idx = int(len(data)* (1-test_ratio))\n",
    "    neural_train = data.neural[:split_idx]\n",
    "    neural_test = data.neural[split_idx:]\n",
    "    label_train = data.continuous_index[:split_idx]\n",
    "    label_test = data.continuous_index[split_idx:]\n",
    "    \n",
    "    return neural_train.numpy(), neural_test.numpy(), label_train.numpy(), label_test.numpy()\n",
    "\n",
    "neural_train, neural_test, label_train, label_test = split_data(hippocampus_pos, 0.2)"
   ]
  },
  {
   "cell_type": "markdown",
   "metadata": {},
   "source": [
    "#### Train CEBRA-Behavior with position, direction variables and both."
   ]
  },
  {
   "cell_type": "code",
   "execution_count": 5,
   "metadata": {},
   "outputs": [],
   "source": [
    "cebra_posdir_model = CEBRA(model_architecture='offset10-model',\n",
    "                        batch_size=512,\n",
    "                        learning_rate=3e-4,\n",
    "                        temperature=1,\n",
    "                        output_dimension=output_dimension,\n",
    "                        max_iterations=max_iterations,\n",
    "                        distance='cosine',\n",
    "                        conditional='time_delta',\n",
    "                        device='cuda_if_available',\n",
    "                        verbose=True,\n",
    "                        time_offsets=10)\n",
    "\n",
    "cebra_pos_model = CEBRA(model_architecture='offset10-model',\n",
    "                        batch_size=512,\n",
    "                        learning_rate=3e-4,\n",
    "                        temperature=1,\n",
    "                        output_dimension=output_dimension,\n",
    "                        max_iterations=max_iterations,\n",
    "                        distance='cosine',\n",
    "                        conditional='time_delta',\n",
    "                        device='cuda_if_available',\n",
    "                        verbose=True,\n",
    "                        time_offsets=10)\n",
    "\n",
    "cebra_dir_model = CEBRA(model_architecture='offset10-model',\n",
    "                        batch_size=512,\n",
    "                        learning_rate=3e-4,\n",
    "                        temperature=1,\n",
    "                        output_dimension=output_dimension,\n",
    "                        max_iterations=max_iterations,\n",
    "                        distance='cosine',\n",
    "                        device='cuda_if_available',\n",
    "                        verbose=True)"
   ]
  },
  {
   "cell_type": "code",
   "execution_count": 6,
   "metadata": {},
   "outputs": [
    {
     "name": "stderr",
     "output_type": "stream",
     "text": [
      "pos:  0.1180 neg:  5.3896 total:  5.5076 temperature:  1.0000: 100%|██████████| 10000/10000 [03:18<00:00, 50.48it/s]\n",
      "pos:  0.1162 neg:  5.4925 total:  5.6087 temperature:  1.0000: 100%|██████████| 10000/10000 [03:11<00:00, 52.27it/s]\n",
      "pos:  0.0633 neg:  5.5938 total:  5.6571 temperature:  1.0000: 100%|██████████| 10000/10000 [03:14<00:00, 51.33it/s]\n"
     ]
    }
   ],
   "source": [
    "# Train CEBRA-Behavior models with both position and direction variables.\n",
    "cebra_posdir_model.fit(neural_train, label_train)\n",
    "cebra_posdir_model.save(\"cebra_posdir_model.pt\")\n",
    "\n",
    "# Train CEBRA-Behavior models with position or direction variable.\n",
    "cebra_pos_model.fit(neural_train, label_train[:,0])\n",
    "cebra_pos_model.save(\"cebra_pos_model.pt\")\n",
    "\n",
    "cebra_dir_model.fit(neural_train, label_train[:,1])\n",
    "cebra_dir_model.save(\"cebra_dir_model.pt\")"
   ]
  },
  {
   "cell_type": "code",
   "execution_count": 7,
   "metadata": {},
   "outputs": [],
   "source": [
    "cebra_posdir_shuffled_model = CEBRA(model_architecture='offset10-model',\n",
    "                        batch_size=512,\n",
    "                        learning_rate=3e-4,\n",
    "                        temperature=1,\n",
    "                        output_dimension=output_dimension,\n",
    "                        max_iterations=max_iterations,\n",
    "                        distance='cosine',\n",
    "                        conditional='time_delta',\n",
    "                        device='cuda_if_available',\n",
    "                        verbose=True,\n",
    "                        time_offsets=10)\n",
    "\n",
    "cebra_pos_shuffled_model = CEBRA(model_architecture='offset10-model',\n",
    "                        batch_size=512,\n",
    "                        learning_rate=3e-4,\n",
    "                        temperature=1,\n",
    "                        output_dimension=output_dimension,\n",
    "                        max_iterations=max_iterations,\n",
    "                        distance='cosine',\n",
    "                        conditional='time_delta',\n",
    "                        device='cuda_if_available',\n",
    "                        verbose=True,\n",
    "                        time_offsets=10)\n",
    "\n",
    "cebra_dir_shuffled_model = CEBRA(model_architecture='offset10-model',\n",
    "                        batch_size=512,\n",
    "                        learning_rate=3e-4,\n",
    "                        temperature=1,\n",
    "                        output_dimension=output_dimension,\n",
    "                        max_iterations=max_iterations,\n",
    "                        distance='cosine',\n",
    "                        device='cuda_if_available',\n",
    "                        verbose=True)"
   ]
  },
  {
   "cell_type": "code",
   "execution_count": 8,
   "metadata": {},
   "outputs": [
    {
     "name": "stderr",
     "output_type": "stream",
     "text": [
      "pos:  0.3144 neg:  5.8153 total:  6.1297 temperature:  1.0000: 100%|██████████| 10000/10000 [03:20<00:00, 49.80it/s]\n",
      "pos:  0.3112 neg:  5.8201 total:  6.1313 temperature:  1.0000: 100%|██████████| 10000/10000 [03:02<00:00, 54.89it/s]\n",
      "pos:  0.1834 neg:  5.8177 total:  6.0012 temperature:  1.0000: 100%|██████████| 10000/10000 [02:31<00:00, 65.90it/s]\n"
     ]
    }
   ],
   "source": [
    "# Generate shuffled behavior labels for train set.\n",
    "shuffled_posdir = np.random.permutation(label_train)\n",
    "shuffled_pos = np.random.permutation(label_train[:,0])\n",
    "shuffled_dir = np.random.permutation(label_train[:,1])\n",
    "\n",
    "\n",
    "# Train the models with shuffled behavior variables\n",
    "cebra_posdir_shuffled_model.fit(neural_train, shuffled_posdir)\n",
    "cebra_posdir_shuffled_model.save(\"cebra_posdir_shuffled_model.pt\")\n",
    "\n",
    "cebra_pos_shuffled_model.fit(neural_train, shuffled_pos)\n",
    "cebra_pos_shuffled_model.save(\"cebra_pos_shuffled_model.pt\")\n",
    "\n",
    "cebra_dir_shuffled_model.fit(neural_train, shuffled_dir)\n",
    "cebra_dir_shuffled_model.save(\"cebra_dir_shuffled_model.pt\")"
   ]
  },
  {
   "cell_type": "markdown",
   "metadata": {},
   "source": [
    "**------------------- END OF TRAINING SECTION -------------------**\n",
    "\n",
    "## Load the models and get the corresponding embeddings"
   ]
  },
  {
   "cell_type": "code",
   "execution_count": 9,
   "metadata": {},
   "outputs": [],
   "source": [
    "# We get train set embedding and test set embedding. \n",
    "\n",
    "cebra_posdir_model = cebra.CEBRA.load(\"cebra_posdir_model.pt\")\n",
    "cebra_posdir_train = cebra_posdir_model.transform(neural_train)\n",
    "cebra_posdir_test = cebra_posdir_model.transform(neural_test)\n",
    "\n",
    "cebra_pos_model = cebra.CEBRA.load(\"cebra_pos_model.pt\")\n",
    "cebra_pos_train = cebra_pos_model.transform(neural_train)\n",
    "cebra_pos_test = cebra_pos_model.transform(neural_test)\n",
    "\n",
    "cebra_dir_model = cebra.CEBRA.load(\"cebra_dir_model.pt\")\n",
    "cebra_dir_train = cebra_dir_model.transform(neural_train)\n",
    "cebra_dir_test = cebra_dir_model.transform(neural_test)"
   ]
  },
  {
   "cell_type": "code",
   "execution_count": 10,
   "metadata": {},
   "outputs": [],
   "source": [
    "# ... and similarily for models with shuffled variables\n",
    "\n",
    "cebra_posdir_shuffled_model = cebra.CEBRA.load(\"cebra_posdir_shuffled_model.pt\")\n",
    "cebra_posdir_shuffled_train = cebra_posdir_shuffled_model.transform(neural_train)\n",
    "cebra_posdir_shuffled_test = cebra_posdir_shuffled_model.transform(neural_test)\n",
    "\n",
    "cebra_pos_shuffled_model = cebra.CEBRA.load(\"cebra_pos_shuffled_model.pt\")\n",
    "cebra_pos_shuffled_train = cebra_pos_shuffled_model.transform(neural_train)\n",
    "cebra_pos_shuffled_test = cebra_pos_shuffled_model.transform(neural_test)\n",
    "\n",
    "cebra_dir_shuffled_model = cebra.CEBRA.load(\"cebra_dir_shuffled_model.pt\")\n",
    "cebra_dir_shuffled_train = cebra_dir_shuffled_model.transform(neural_train)\n",
    "cebra_dir_shuffled_test = cebra_dir_shuffled_model.transform(neural_test)"
   ]
  },
  {
   "cell_type": "code",
   "execution_count": 11,
   "metadata": {},
   "outputs": [],
   "source": [
    "cebra_pos_all = cebra_pos_model.transform(hippocampus_pos.neural)\n",
    "cebra_dir_all = cebra_dir_model.transform(hippocampus_pos.neural)\n",
    "cebra_posdir_all = cebra_posdir_model.transform(hippocampus_pos.neural)\n",
    "\n",
    "cebra_pos_shuffled_all = cebra_pos_shuffled_model.transform(hippocampus_pos.neural)\n",
    "cebra_dir_shuffled_all = cebra_dir_shuffled_model.transform(hippocampus_pos.neural)\n",
    "cebra_posdir_shuffled_all = cebra_posdir_shuffled_model.transform(hippocampus_pos.neural)"
   ]
  },
  {
   "cell_type": "markdown",
   "metadata": {},
   "source": [
    "## Decoding: we evaluate decoding performance of the different hypothesis models."
   ]
  },
  {
   "cell_type": "code",
   "execution_count": 12,
   "metadata": {},
   "outputs": [],
   "source": [
    "import sklearn.metrics\n",
    "\n",
    "# Define decoding function with kNN decoder. For a simple demo, we will use the fixed number of neighbors 36.\n",
    "def decoding_pos_dir(embedding_train, embedding_test, label_train, label_test):\n",
    "   pos_decoder = cebra.KNNDecoder(n_neighbors=36, metric=\"cosine\")\n",
    "   dir_decoder = cebra.KNNDecoder(n_neighbors=36, metric=\"cosine\")\n",
    "   \n",
    "   pos_decoder.fit(embedding_train, label_train[:,0])\n",
    "   dir_decoder.fit(embedding_train, label_train[:,1])\n",
    "   \n",
    "   pos_pred = pos_decoder.predict(embedding_test)\n",
    "   dir_pred = dir_decoder.predict(embedding_test)\n",
    "   \n",
    "   prediction = np.stack([pos_pred, dir_pred],axis = 1)\n",
    "   \n",
    "   test_score = sklearn.metrics.r2_score(label_test[:,:2], prediction)\n",
    "   pos_test_err = np.median(abs(prediction[:,0] - label_test[:, 0]))\n",
    "   pos_test_score = sklearn.metrics.r2_score(label_test[:, 0], prediction[:,0])\n",
    "   \n",
    "   return test_score, pos_test_err, pos_test_score"
   ]
  },
  {
   "cell_type": "markdown",
   "metadata": {},
   "source": [
    "- Decode the position and direction from the trained hypothesis models"
   ]
  },
  {
   "cell_type": "code",
   "execution_count": 13,
   "metadata": {},
   "outputs": [],
   "source": [
    "cebra_posdir_decode = decoding_pos_dir(cebra_posdir_train, cebra_posdir_test, label_train, label_test)\n",
    "cebra_pos_decode = decoding_pos_dir(cebra_pos_train, cebra_pos_test, label_train, label_test)\n",
    "cebra_dir_decode = decoding_pos_dir(cebra_dir_train, cebra_dir_test, label_train, label_test)\n",
    "\n",
    "cebra_posdir_shuffled_decode = decoding_pos_dir(cebra_posdir_shuffled_train, cebra_posdir_shuffled_test, label_train, label_test)\n",
    "cebra_pos_shuffled_decode = decoding_pos_dir(cebra_pos_shuffled_train, cebra_pos_shuffled_test, label_train, label_test)\n",
    "cebra_dir_shuffled_decode = decoding_pos_dir(cebra_dir_shuffled_train, cebra_dir_shuffled_test, label_train, label_test)"
   ]
  },
  {
   "cell_type": "markdown",
   "metadata": {},
   "source": [
    "#### Visualize the decoding results and loss - decoding performance"
   ]
  },
  {
   "cell_type": "code",
   "execution_count": 14,
   "metadata": {},
   "outputs": [
    {
     "data": {
      "image/png": "[encoded data removed]",
      "text/plain": [
       "<Figure size 1000x400 with 2 Axes>"
      ]
     },
     "metadata": {},
     "output_type": "display_data"
    }
   ],
   "source": [
    "fig = plt.figure(figsize=(10,4))\n",
    "\n",
    "ax1= plt.subplot(121)\n",
    "ax1.bar(np.arange(6), \n",
    "        [cebra_posdir_decode[1], cebra_pos_decode[1], cebra_dir_decode[1], \n",
    "         cebra_posdir_shuffled_decode[1], cebra_pos_shuffled_decode[1], cebra_dir_shuffled_decode[1]],\n",
    "         width = 0.5, color = 'gray')\n",
    "ax1.spines['top'].set_visible(False)\n",
    "ax1.spines['right'].set_visible(False)\n",
    "ax1.set_xticks(np.arange(6))\n",
    "ax1.set_xticklabels(['pos+dir', 'pos', 'dir', 'pos+dir,\\nshuffled', 'pos,\\nshuffled', 'dir,\\nshuffled'])\n",
    "ax1.set_ylabel('Median err. [m]')\n",
    "\n",
    "ax2 = plt.subplot(122)\n",
    "ax2.scatter(cebra_posdir_model.state_dict_['loss'][-1],cebra_posdir_decode[1], s=50, c='deepskyblue', label = 'position+direction')\n",
    "ax2.scatter(cebra_pos_model.state_dict_['loss'][-1],cebra_pos_decode[1], s=50, c='deepskyblue', alpha = 0.3, label = 'position_only')\n",
    "ax2.scatter(cebra_dir_model.state_dict_['loss'][-1],cebra_dir_decode[1], s=50, c='deepskyblue', alpha=0.6,label = 'direction_only')\n",
    "ax2.scatter(cebra_posdir_shuffled_model.state_dict_['loss'][-1],cebra_posdir_shuffled_decode[1], s=50, c='gray', label = 'pos+dir, shuffled')\n",
    "ax2.scatter(cebra_pos_shuffled_model.state_dict_['loss'][-1],cebra_pos_shuffled_decode[1], s=50, c='gray', alpha = 0.3, label = 'position, shuffled')\n",
    "ax2.scatter(cebra_dir_shuffled_model.state_dict_['loss'][-1],cebra_dir_shuffled_decode[1], s=50, c='gray', alpha=0.6,label = 'direction, shuffled')\n",
    "\n",
    "ax2.spines['top'].set_visible(False)\n",
    "ax2.spines['right'].set_visible(False)\n",
    "ax2.set_xlabel('InfoNCE Loss')\n",
    "ax2.set_ylabel('Decoding Median Err.')\n",
    "plt.legend(bbox_to_anchor=(1,1), frameon = False )\n",
    "plt.show()"
   ]
  }
 ],
 "metadata": {
  "kernelspec": {
   "display_name": "Python 3 (ipykernel)",
   "language": "python",
   "name": "python3"
  },
  "language_info": {
   "codemirror_mode": {
    "name": "ipython",
    "version": 3
   },
   "file_extension": ".py",
   "mimetype": "text/x-python",
   "name": "python",
   "nbconvert_exporter": "python",
   "pygments_lexer": "ipython3",
   "version": "3.9.16"
  }
 },
 "nbformat": 4,
 "nbformat_minor": 2
}
